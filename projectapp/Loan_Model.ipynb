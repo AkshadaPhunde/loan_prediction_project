{
 "cells": [
  {
   "cell_type": "markdown",
   "id": "9e676ad2",
   "metadata": {},
   "source": [
    "# LogisticRegression Model-LoanDataset"
   ]
  },
  {
   "cell_type": "markdown",
   "id": "703ce0f4",
   "metadata": {},
   "source": [
    "#### Type-Supervised Machine Learning Algoritham(Classification)"
   ]
  },
  {
   "cell_type": "markdown",
   "id": "df3b5fed",
   "metadata": {},
   "source": [
    "### 1.Problem Statement"
   ]
  },
  {
   "cell_type": "raw",
   "id": "af3f1d8b",
   "metadata": {},
   "source": [
    "To predict whether the client fully paid loan or not considering logistic regression problem  using supervised machine learning.\n",
    "Independent variables=['credit.policy', 'purpose', 'int.rate', 'installment', 'log.annual.inc',\n",
    "       'dti', 'fico', 'days.with.cr.line', 'revol.bal', 'revol.util',\n",
    "       'inq.last.6mths', 'delinq.2yrs', 'pub.rec']\n",
    "Dependent variable=['not.fully.paid']"
   ]
  },
  {
   "cell_type": "markdown",
   "id": "7f9e2165",
   "metadata": {},
   "source": [
    "### 2.Data Gathering\n",
    "#### Importing Necessary Libraries\n"
   ]
  },
  {
   "cell_type": "code",
   "execution_count": 29,
   "id": "3c74fe14",
   "metadata": {},
   "outputs": [],
   "source": [
    "import numpy as np\n",
    "import pandas as pd\n",
    "\n",
    "import matplotlib.pyplot as plt\n",
    "import seaborn as sns\n",
    "\n",
    "from sklearn.linear_model import LogisticRegression\n",
    "from sklearn.metrics import accuracy_score,classification_report,confusion_matrix,plot_confusion_matrix\n",
    "from sklearn.model_selection import train_test_split\n",
    "from sklearn.metrics import roc_curve,auc\n",
    "from sklearn.metrics import recall_score,f1_score,precision_score\n",
    "import warnings\n",
    "warnings.filterwarnings(\"ignore\")\n",
    "\n",
    "import pickle\n",
    "import json"
   ]
  },
  {
   "cell_type": "code",
   "execution_count": 5,
   "id": "0cf4874b",
   "metadata": {},
   "outputs": [
    {
     "data": {
      "text/html": [
       "<div>\n",
       "<style scoped>\n",
       "    .dataframe tbody tr th:only-of-type {\n",
       "        vertical-align: middle;\n",
       "    }\n",
       "\n",
       "    .dataframe tbody tr th {\n",
       "        vertical-align: top;\n",
       "    }\n",
       "\n",
       "    .dataframe thead th {\n",
       "        text-align: right;\n",
       "    }\n",
       "</style>\n",
       "<table border=\"1\" class=\"dataframe\">\n",
       "  <thead>\n",
       "    <tr style=\"text-align: right;\">\n",
       "      <th></th>\n",
       "      <th>credit.policy</th>\n",
       "      <th>purpose</th>\n",
       "      <th>int.rate</th>\n",
       "      <th>installment</th>\n",
       "      <th>log.annual.inc</th>\n",
       "      <th>dti</th>\n",
       "      <th>fico</th>\n",
       "      <th>days.with.cr.line</th>\n",
       "      <th>revol.bal</th>\n",
       "      <th>revol.util</th>\n",
       "      <th>inq.last.6mths</th>\n",
       "      <th>delinq.2yrs</th>\n",
       "      <th>pub.rec</th>\n",
       "      <th>not.fully.paid</th>\n",
       "    </tr>\n",
       "  </thead>\n",
       "  <tbody>\n",
       "    <tr>\n",
       "      <th>0</th>\n",
       "      <td>1</td>\n",
       "      <td>debt_consolidation</td>\n",
       "      <td>0.1189</td>\n",
       "      <td>829.10</td>\n",
       "      <td>11.350407</td>\n",
       "      <td>19.48</td>\n",
       "      <td>737</td>\n",
       "      <td>5639.958333</td>\n",
       "      <td>28854</td>\n",
       "      <td>52.1</td>\n",
       "      <td>0</td>\n",
       "      <td>0</td>\n",
       "      <td>0</td>\n",
       "      <td>0</td>\n",
       "    </tr>\n",
       "    <tr>\n",
       "      <th>1</th>\n",
       "      <td>1</td>\n",
       "      <td>credit_card</td>\n",
       "      <td>0.1071</td>\n",
       "      <td>228.22</td>\n",
       "      <td>11.082143</td>\n",
       "      <td>14.29</td>\n",
       "      <td>707</td>\n",
       "      <td>2760.000000</td>\n",
       "      <td>33623</td>\n",
       "      <td>76.7</td>\n",
       "      <td>0</td>\n",
       "      <td>0</td>\n",
       "      <td>0</td>\n",
       "      <td>0</td>\n",
       "    </tr>\n",
       "    <tr>\n",
       "      <th>2</th>\n",
       "      <td>1</td>\n",
       "      <td>debt_consolidation</td>\n",
       "      <td>0.1357</td>\n",
       "      <td>366.86</td>\n",
       "      <td>10.373491</td>\n",
       "      <td>11.63</td>\n",
       "      <td>682</td>\n",
       "      <td>4710.000000</td>\n",
       "      <td>3511</td>\n",
       "      <td>25.6</td>\n",
       "      <td>1</td>\n",
       "      <td>0</td>\n",
       "      <td>0</td>\n",
       "      <td>0</td>\n",
       "    </tr>\n",
       "    <tr>\n",
       "      <th>3</th>\n",
       "      <td>1</td>\n",
       "      <td>debt_consolidation</td>\n",
       "      <td>0.1008</td>\n",
       "      <td>162.34</td>\n",
       "      <td>11.350407</td>\n",
       "      <td>8.10</td>\n",
       "      <td>712</td>\n",
       "      <td>2699.958333</td>\n",
       "      <td>33667</td>\n",
       "      <td>73.2</td>\n",
       "      <td>1</td>\n",
       "      <td>0</td>\n",
       "      <td>0</td>\n",
       "      <td>0</td>\n",
       "    </tr>\n",
       "    <tr>\n",
       "      <th>4</th>\n",
       "      <td>1</td>\n",
       "      <td>credit_card</td>\n",
       "      <td>0.1426</td>\n",
       "      <td>102.92</td>\n",
       "      <td>11.299732</td>\n",
       "      <td>14.97</td>\n",
       "      <td>667</td>\n",
       "      <td>4066.000000</td>\n",
       "      <td>4740</td>\n",
       "      <td>39.5</td>\n",
       "      <td>0</td>\n",
       "      <td>1</td>\n",
       "      <td>0</td>\n",
       "      <td>0</td>\n",
       "    </tr>\n",
       "    <tr>\n",
       "      <th>...</th>\n",
       "      <td>...</td>\n",
       "      <td>...</td>\n",
       "      <td>...</td>\n",
       "      <td>...</td>\n",
       "      <td>...</td>\n",
       "      <td>...</td>\n",
       "      <td>...</td>\n",
       "      <td>...</td>\n",
       "      <td>...</td>\n",
       "      <td>...</td>\n",
       "      <td>...</td>\n",
       "      <td>...</td>\n",
       "      <td>...</td>\n",
       "      <td>...</td>\n",
       "    </tr>\n",
       "    <tr>\n",
       "      <th>9573</th>\n",
       "      <td>0</td>\n",
       "      <td>all_other</td>\n",
       "      <td>0.1461</td>\n",
       "      <td>344.76</td>\n",
       "      <td>12.180755</td>\n",
       "      <td>10.39</td>\n",
       "      <td>672</td>\n",
       "      <td>10474.000000</td>\n",
       "      <td>215372</td>\n",
       "      <td>82.1</td>\n",
       "      <td>2</td>\n",
       "      <td>0</td>\n",
       "      <td>0</td>\n",
       "      <td>1</td>\n",
       "    </tr>\n",
       "    <tr>\n",
       "      <th>9574</th>\n",
       "      <td>0</td>\n",
       "      <td>all_other</td>\n",
       "      <td>0.1253</td>\n",
       "      <td>257.70</td>\n",
       "      <td>11.141862</td>\n",
       "      <td>0.21</td>\n",
       "      <td>722</td>\n",
       "      <td>4380.000000</td>\n",
       "      <td>184</td>\n",
       "      <td>1.1</td>\n",
       "      <td>5</td>\n",
       "      <td>0</td>\n",
       "      <td>0</td>\n",
       "      <td>1</td>\n",
       "    </tr>\n",
       "    <tr>\n",
       "      <th>9575</th>\n",
       "      <td>0</td>\n",
       "      <td>debt_consolidation</td>\n",
       "      <td>0.1071</td>\n",
       "      <td>97.81</td>\n",
       "      <td>10.596635</td>\n",
       "      <td>13.09</td>\n",
       "      <td>687</td>\n",
       "      <td>3450.041667</td>\n",
       "      <td>10036</td>\n",
       "      <td>82.9</td>\n",
       "      <td>8</td>\n",
       "      <td>0</td>\n",
       "      <td>0</td>\n",
       "      <td>1</td>\n",
       "    </tr>\n",
       "    <tr>\n",
       "      <th>9576</th>\n",
       "      <td>0</td>\n",
       "      <td>home_improvement</td>\n",
       "      <td>0.1600</td>\n",
       "      <td>351.58</td>\n",
       "      <td>10.819778</td>\n",
       "      <td>19.18</td>\n",
       "      <td>692</td>\n",
       "      <td>1800.000000</td>\n",
       "      <td>0</td>\n",
       "      <td>3.2</td>\n",
       "      <td>5</td>\n",
       "      <td>0</td>\n",
       "      <td>0</td>\n",
       "      <td>1</td>\n",
       "    </tr>\n",
       "    <tr>\n",
       "      <th>9577</th>\n",
       "      <td>0</td>\n",
       "      <td>debt_consolidation</td>\n",
       "      <td>0.1392</td>\n",
       "      <td>853.43</td>\n",
       "      <td>11.264464</td>\n",
       "      <td>16.28</td>\n",
       "      <td>732</td>\n",
       "      <td>4740.000000</td>\n",
       "      <td>37879</td>\n",
       "      <td>57.0</td>\n",
       "      <td>6</td>\n",
       "      <td>0</td>\n",
       "      <td>0</td>\n",
       "      <td>1</td>\n",
       "    </tr>\n",
       "  </tbody>\n",
       "</table>\n",
       "<p>9578 rows × 14 columns</p>\n",
       "</div>"
      ],
      "text/plain": [
       "      credit.policy             purpose  int.rate  installment  \\\n",
       "0                 1  debt_consolidation    0.1189       829.10   \n",
       "1                 1         credit_card    0.1071       228.22   \n",
       "2                 1  debt_consolidation    0.1357       366.86   \n",
       "3                 1  debt_consolidation    0.1008       162.34   \n",
       "4                 1         credit_card    0.1426       102.92   \n",
       "...             ...                 ...       ...          ...   \n",
       "9573              0           all_other    0.1461       344.76   \n",
       "9574              0           all_other    0.1253       257.70   \n",
       "9575              0  debt_consolidation    0.1071        97.81   \n",
       "9576              0    home_improvement    0.1600       351.58   \n",
       "9577              0  debt_consolidation    0.1392       853.43   \n",
       "\n",
       "      log.annual.inc    dti  fico  days.with.cr.line  revol.bal  revol.util  \\\n",
       "0          11.350407  19.48   737        5639.958333      28854        52.1   \n",
       "1          11.082143  14.29   707        2760.000000      33623        76.7   \n",
       "2          10.373491  11.63   682        4710.000000       3511        25.6   \n",
       "3          11.350407   8.10   712        2699.958333      33667        73.2   \n",
       "4          11.299732  14.97   667        4066.000000       4740        39.5   \n",
       "...              ...    ...   ...                ...        ...         ...   \n",
       "9573       12.180755  10.39   672       10474.000000     215372        82.1   \n",
       "9574       11.141862   0.21   722        4380.000000        184         1.1   \n",
       "9575       10.596635  13.09   687        3450.041667      10036        82.9   \n",
       "9576       10.819778  19.18   692        1800.000000          0         3.2   \n",
       "9577       11.264464  16.28   732        4740.000000      37879        57.0   \n",
       "\n",
       "      inq.last.6mths  delinq.2yrs  pub.rec  not.fully.paid  \n",
       "0                  0            0        0               0  \n",
       "1                  0            0        0               0  \n",
       "2                  1            0        0               0  \n",
       "3                  1            0        0               0  \n",
       "4                  0            1        0               0  \n",
       "...              ...          ...      ...             ...  \n",
       "9573               2            0        0               1  \n",
       "9574               5            0        0               1  \n",
       "9575               8            0        0               1  \n",
       "9576               5            0        0               1  \n",
       "9577               6            0        0               1  \n",
       "\n",
       "[9578 rows x 14 columns]"
      ]
     },
     "execution_count": 5,
     "metadata": {},
     "output_type": "execute_result"
    }
   ],
   "source": [
    "df = pd.read_csv(\"loan_data.csv\")\n",
    "df"
   ]
  },
  {
   "cell_type": "markdown",
   "id": "74ee90e6",
   "metadata": {},
   "source": [
    "### 3.Exploratory Data Analysis"
   ]
  },
  {
   "cell_type": "code",
   "execution_count": 6,
   "id": "240f9f57",
   "metadata": {},
   "outputs": [
    {
     "name": "stdout",
     "output_type": "stream",
     "text": [
      "<class 'pandas.core.frame.DataFrame'>\n",
      "RangeIndex: 9578 entries, 0 to 9577\n",
      "Data columns (total 14 columns):\n",
      " #   Column             Non-Null Count  Dtype  \n",
      "---  ------             --------------  -----  \n",
      " 0   credit.policy      9578 non-null   int64  \n",
      " 1   purpose            9578 non-null   object \n",
      " 2   int.rate           9578 non-null   float64\n",
      " 3   installment        9578 non-null   float64\n",
      " 4   log.annual.inc     9578 non-null   float64\n",
      " 5   dti                9578 non-null   float64\n",
      " 6   fico               9578 non-null   int64  \n",
      " 7   days.with.cr.line  9578 non-null   float64\n",
      " 8   revol.bal          9578 non-null   int64  \n",
      " 9   revol.util         9578 non-null   float64\n",
      " 10  inq.last.6mths     9578 non-null   int64  \n",
      " 11  delinq.2yrs        9578 non-null   int64  \n",
      " 12  pub.rec            9578 non-null   int64  \n",
      " 13  not.fully.paid     9578 non-null   int64  \n",
      "dtypes: float64(6), int64(7), object(1)\n",
      "memory usage: 1.0+ MB\n"
     ]
    }
   ],
   "source": [
    "df.info()"
   ]
  },
  {
   "cell_type": "code",
   "execution_count": 7,
   "id": "a4271c99",
   "metadata": {},
   "outputs": [
    {
     "data": {
      "text/plain": [
       "Index(['credit.policy', 'purpose', 'int.rate', 'installment', 'log.annual.inc',\n",
       "       'dti', 'fico', 'days.with.cr.line', 'revol.bal', 'revol.util',\n",
       "       'inq.last.6mths', 'delinq.2yrs', 'pub.rec', 'not.fully.paid'],\n",
       "      dtype='object')"
      ]
     },
     "execution_count": 7,
     "metadata": {},
     "output_type": "execute_result"
    }
   ],
   "source": [
    "df.columns"
   ]
  },
  {
   "cell_type": "code",
   "execution_count": 8,
   "id": "a22e4615",
   "metadata": {},
   "outputs": [
    {
     "data": {
      "text/plain": [
       "RangeIndex(start=0, stop=9578, step=1)"
      ]
     },
     "execution_count": 8,
     "metadata": {},
     "output_type": "execute_result"
    }
   ],
   "source": [
    "df.index"
   ]
  },
  {
   "cell_type": "code",
   "execution_count": 10,
   "id": "0eb25adc",
   "metadata": {},
   "outputs": [
    {
     "data": {
      "text/plain": [
       "(9578, 14)"
      ]
     },
     "execution_count": 10,
     "metadata": {},
     "output_type": "execute_result"
    }
   ],
   "source": [
    "df.shape"
   ]
  },
  {
   "cell_type": "code",
   "execution_count": 11,
   "id": "e50788f8",
   "metadata": {},
   "outputs": [
    {
     "name": "stdout",
     "output_type": "stream",
     "text": [
      "Row count--> 9578\n"
     ]
    }
   ],
   "source": [
    "row_count=df.shape[0]\n",
    "print(\"Row count-->\",row_count)"
   ]
  },
  {
   "cell_type": "code",
   "execution_count": 12,
   "id": "ca91942e",
   "metadata": {},
   "outputs": [
    {
     "name": "stdout",
     "output_type": "stream",
     "text": [
      "Row count--> 14\n"
     ]
    }
   ],
   "source": [
    "col_count=df.shape[1]\n",
    "print(\"Row count-->\",col_count)"
   ]
  },
  {
   "cell_type": "code",
   "execution_count": 13,
   "id": "8f7b7ce3",
   "metadata": {},
   "outputs": [
    {
     "data": {
      "text/plain": [
       "0    8045\n",
       "1    1533\n",
       "Name: not.fully.paid, dtype: int64"
      ]
     },
     "execution_count": 13,
     "metadata": {},
     "output_type": "execute_result"
    }
   ],
   "source": [
    "#dependent variable\n",
    "df[\"not.fully.paid\"].value_counts()"
   ]
  },
  {
   "cell_type": "code",
   "execution_count": 14,
   "id": "2c5e6cdb",
   "metadata": {},
   "outputs": [
    {
     "data": {
      "text/plain": [
       "<AxesSubplot:xlabel='not.fully.paid', ylabel='count'>"
      ]
     },
     "execution_count": 14,
     "metadata": {},
     "output_type": "execute_result"
    },
    {
     "data": {
      "image/png": "[encoded data removed]",
      "text/plain": [
       "<Figure size 640x480 with 1 Axes>"
      ]
     },
     "metadata": {},
     "output_type": "display_data"
    }
   ],
   "source": [
    "#visualizing Target column using graph\n",
    "sns.countplot(x=df[\"not.fully.paid\"])"
   ]
  },
  {
   "cell_type": "markdown",
   "id": "5a9a5582",
   "metadata": {},
   "source": [
    "### 4.Feature Engineering"
   ]
  },
  {
   "cell_type": "code",
   "execution_count": 15,
   "id": "d29827bc",
   "metadata": {},
   "outputs": [
    {
     "data": {
      "text/plain": [
       "Index(['credit_policy', 'purpose', 'int_rate', 'installment', 'log_annual_inc',\n",
       "       'dti', 'fico', 'days_with_cr_line', 'revol_bal', 'revol_util',\n",
       "       'inq_last_6mths', 'delinq_2yrs', 'pub_rec', 'not_fully_paid'],\n",
       "      dtype='object')"
      ]
     },
     "execution_count": 15,
     "metadata": {},
     "output_type": "execute_result"
    }
   ],
   "source": [
    "df.columns = df.columns.str.replace(\".\",\"_\")\n",
    "df.columns\n"
   ]
  },
  {
   "cell_type": "code",
   "execution_count": 16,
   "id": "339df13b",
   "metadata": {},
   "outputs": [
    {
     "data": {
      "text/plain": [
       "debt_consolidation    3957\n",
       "all_other             2331\n",
       "credit_card           1262\n",
       "home_improvement       629\n",
       "small_business         619\n",
       "major_purchase         437\n",
       "educational            343\n",
       "Name: purpose, dtype: int64"
      ]
     },
     "execution_count": 16,
     "metadata": {},
     "output_type": "execute_result"
    }
   ],
   "source": [
    "#coulmn containing objet datatype\n",
    "df[\"purpose\"].value_counts()"
   ]
  },
  {
   "cell_type": "markdown",
   "id": "46e8f672",
   "metadata": {},
   "source": [
    "##### Encoding:Categorical cloumn to numeric value"
   ]
  },
  {
   "cell_type": "code",
   "execution_count": 17,
   "id": "e4bb66ee",
   "metadata": {},
   "outputs": [
    {
     "data": {
      "text/html": [
       "<div>\n",
       "<style scoped>\n",
       "    .dataframe tbody tr th:only-of-type {\n",
       "        vertical-align: middle;\n",
       "    }\n",
       "\n",
       "    .dataframe tbody tr th {\n",
       "        vertical-align: top;\n",
       "    }\n",
       "\n",
       "    .dataframe thead th {\n",
       "        text-align: right;\n",
       "    }\n",
       "</style>\n",
       "<table border=\"1\" class=\"dataframe\">\n",
       "  <thead>\n",
       "    <tr style=\"text-align: right;\">\n",
       "      <th></th>\n",
       "      <th>credit_policy</th>\n",
       "      <th>int_rate</th>\n",
       "      <th>installment</th>\n",
       "      <th>log_annual_inc</th>\n",
       "      <th>dti</th>\n",
       "      <th>fico</th>\n",
       "      <th>days_with_cr_line</th>\n",
       "      <th>revol_bal</th>\n",
       "      <th>revol_util</th>\n",
       "      <th>inq_last_6mths</th>\n",
       "      <th>delinq_2yrs</th>\n",
       "      <th>pub_rec</th>\n",
       "      <th>not_fully_paid</th>\n",
       "      <th>purpose_all_other</th>\n",
       "      <th>purpose_credit_card</th>\n",
       "      <th>purpose_debt_consolidation</th>\n",
       "      <th>purpose_educational</th>\n",
       "      <th>purpose_home_improvement</th>\n",
       "      <th>purpose_major_purchase</th>\n",
       "      <th>purpose_small_business</th>\n",
       "    </tr>\n",
       "  </thead>\n",
       "  <tbody>\n",
       "    <tr>\n",
       "      <th>0</th>\n",
       "      <td>1</td>\n",
       "      <td>0.1189</td>\n",
       "      <td>829.10</td>\n",
       "      <td>11.350407</td>\n",
       "      <td>19.48</td>\n",
       "      <td>737</td>\n",
       "      <td>5639.958333</td>\n",
       "      <td>28854</td>\n",
       "      <td>52.1</td>\n",
       "      <td>0</td>\n",
       "      <td>0</td>\n",
       "      <td>0</td>\n",
       "      <td>0</td>\n",
       "      <td>0</td>\n",
       "      <td>0</td>\n",
       "      <td>1</td>\n",
       "      <td>0</td>\n",
       "      <td>0</td>\n",
       "      <td>0</td>\n",
       "      <td>0</td>\n",
       "    </tr>\n",
       "    <tr>\n",
       "      <th>1</th>\n",
       "      <td>1</td>\n",
       "      <td>0.1071</td>\n",
       "      <td>228.22</td>\n",
       "      <td>11.082143</td>\n",
       "      <td>14.29</td>\n",
       "      <td>707</td>\n",
       "      <td>2760.000000</td>\n",
       "      <td>33623</td>\n",
       "      <td>76.7</td>\n",
       "      <td>0</td>\n",
       "      <td>0</td>\n",
       "      <td>0</td>\n",
       "      <td>0</td>\n",
       "      <td>0</td>\n",
       "      <td>1</td>\n",
       "      <td>0</td>\n",
       "      <td>0</td>\n",
       "      <td>0</td>\n",
       "      <td>0</td>\n",
       "      <td>0</td>\n",
       "    </tr>\n",
       "    <tr>\n",
       "      <th>2</th>\n",
       "      <td>1</td>\n",
       "      <td>0.1357</td>\n",
       "      <td>366.86</td>\n",
       "      <td>10.373491</td>\n",
       "      <td>11.63</td>\n",
       "      <td>682</td>\n",
       "      <td>4710.000000</td>\n",
       "      <td>3511</td>\n",
       "      <td>25.6</td>\n",
       "      <td>1</td>\n",
       "      <td>0</td>\n",
       "      <td>0</td>\n",
       "      <td>0</td>\n",
       "      <td>0</td>\n",
       "      <td>0</td>\n",
       "      <td>1</td>\n",
       "      <td>0</td>\n",
       "      <td>0</td>\n",
       "      <td>0</td>\n",
       "      <td>0</td>\n",
       "    </tr>\n",
       "    <tr>\n",
       "      <th>3</th>\n",
       "      <td>1</td>\n",
       "      <td>0.1008</td>\n",
       "      <td>162.34</td>\n",
       "      <td>11.350407</td>\n",
       "      <td>8.10</td>\n",
       "      <td>712</td>\n",
       "      <td>2699.958333</td>\n",
       "      <td>33667</td>\n",
       "      <td>73.2</td>\n",
       "      <td>1</td>\n",
       "      <td>0</td>\n",
       "      <td>0</td>\n",
       "      <td>0</td>\n",
       "      <td>0</td>\n",
       "      <td>0</td>\n",
       "      <td>1</td>\n",
       "      <td>0</td>\n",
       "      <td>0</td>\n",
       "      <td>0</td>\n",
       "      <td>0</td>\n",
       "    </tr>\n",
       "    <tr>\n",
       "      <th>4</th>\n",
       "      <td>1</td>\n",
       "      <td>0.1426</td>\n",
       "      <td>102.92</td>\n",
       "      <td>11.299732</td>\n",
       "      <td>14.97</td>\n",
       "      <td>667</td>\n",
       "      <td>4066.000000</td>\n",
       "      <td>4740</td>\n",
       "      <td>39.5</td>\n",
       "      <td>0</td>\n",
       "      <td>1</td>\n",
       "      <td>0</td>\n",
       "      <td>0</td>\n",
       "      <td>0</td>\n",
       "      <td>1</td>\n",
       "      <td>0</td>\n",
       "      <td>0</td>\n",
       "      <td>0</td>\n",
       "      <td>0</td>\n",
       "      <td>0</td>\n",
       "    </tr>\n",
       "    <tr>\n",
       "      <th>...</th>\n",
       "      <td>...</td>\n",
       "      <td>...</td>\n",
       "      <td>...</td>\n",
       "      <td>...</td>\n",
       "      <td>...</td>\n",
       "      <td>...</td>\n",
       "      <td>...</td>\n",
       "      <td>...</td>\n",
       "      <td>...</td>\n",
       "      <td>...</td>\n",
       "      <td>...</td>\n",
       "      <td>...</td>\n",
       "      <td>...</td>\n",
       "      <td>...</td>\n",
       "      <td>...</td>\n",
       "      <td>...</td>\n",
       "      <td>...</td>\n",
       "      <td>...</td>\n",
       "      <td>...</td>\n",
       "      <td>...</td>\n",
       "    </tr>\n",
       "    <tr>\n",
       "      <th>9573</th>\n",
       "      <td>0</td>\n",
       "      <td>0.1461</td>\n",
       "      <td>344.76</td>\n",
       "      <td>12.180755</td>\n",
       "      <td>10.39</td>\n",
       "      <td>672</td>\n",
       "      <td>10474.000000</td>\n",
       "      <td>215372</td>\n",
       "      <td>82.1</td>\n",
       "      <td>2</td>\n",
       "      <td>0</td>\n",
       "      <td>0</td>\n",
       "      <td>1</td>\n",
       "      <td>1</td>\n",
       "      <td>0</td>\n",
       "      <td>0</td>\n",
       "      <td>0</td>\n",
       "      <td>0</td>\n",
       "      <td>0</td>\n",
       "      <td>0</td>\n",
       "    </tr>\n",
       "    <tr>\n",
       "      <th>9574</th>\n",
       "      <td>0</td>\n",
       "      <td>0.1253</td>\n",
       "      <td>257.70</td>\n",
       "      <td>11.141862</td>\n",
       "      <td>0.21</td>\n",
       "      <td>722</td>\n",
       "      <td>4380.000000</td>\n",
       "      <td>184</td>\n",
       "      <td>1.1</td>\n",
       "      <td>5</td>\n",
       "      <td>0</td>\n",
       "      <td>0</td>\n",
       "      <td>1</td>\n",
       "      <td>1</td>\n",
       "      <td>0</td>\n",
       "      <td>0</td>\n",
       "      <td>0</td>\n",
       "      <td>0</td>\n",
       "      <td>0</td>\n",
       "      <td>0</td>\n",
       "    </tr>\n",
       "    <tr>\n",
       "      <th>9575</th>\n",
       "      <td>0</td>\n",
       "      <td>0.1071</td>\n",
       "      <td>97.81</td>\n",
       "      <td>10.596635</td>\n",
       "      <td>13.09</td>\n",
       "      <td>687</td>\n",
       "      <td>3450.041667</td>\n",
       "      <td>10036</td>\n",
       "      <td>82.9</td>\n",
       "      <td>8</td>\n",
       "      <td>0</td>\n",
       "      <td>0</td>\n",
       "      <td>1</td>\n",
       "      <td>0</td>\n",
       "      <td>0</td>\n",
       "      <td>1</td>\n",
       "      <td>0</td>\n",
       "      <td>0</td>\n",
       "      <td>0</td>\n",
       "      <td>0</td>\n",
       "    </tr>\n",
       "    <tr>\n",
       "      <th>9576</th>\n",
       "      <td>0</td>\n",
       "      <td>0.1600</td>\n",
       "      <td>351.58</td>\n",
       "      <td>10.819778</td>\n",
       "      <td>19.18</td>\n",
       "      <td>692</td>\n",
       "      <td>1800.000000</td>\n",
       "      <td>0</td>\n",
       "      <td>3.2</td>\n",
       "      <td>5</td>\n",
       "      <td>0</td>\n",
       "      <td>0</td>\n",
       "      <td>1</td>\n",
       "      <td>0</td>\n",
       "      <td>0</td>\n",
       "      <td>0</td>\n",
       "      <td>0</td>\n",
       "      <td>1</td>\n",
       "      <td>0</td>\n",
       "      <td>0</td>\n",
       "    </tr>\n",
       "    <tr>\n",
       "      <th>9577</th>\n",
       "      <td>0</td>\n",
       "      <td>0.1392</td>\n",
       "      <td>853.43</td>\n",
       "      <td>11.264464</td>\n",
       "      <td>16.28</td>\n",
       "      <td>732</td>\n",
       "      <td>4740.000000</td>\n",
       "      <td>37879</td>\n",
       "      <td>57.0</td>\n",
       "      <td>6</td>\n",
       "      <td>0</td>\n",
       "      <td>0</td>\n",
       "      <td>1</td>\n",
       "      <td>0</td>\n",
       "      <td>0</td>\n",
       "      <td>1</td>\n",
       "      <td>0</td>\n",
       "      <td>0</td>\n",
       "      <td>0</td>\n",
       "      <td>0</td>\n",
       "    </tr>\n",
       "  </tbody>\n",
       "</table>\n",
       "<p>9578 rows × 20 columns</p>\n",
       "</div>"
      ],
      "text/plain": [
       "      credit_policy  int_rate  installment  log_annual_inc    dti  fico  \\\n",
       "0                 1    0.1189       829.10       11.350407  19.48   737   \n",
       "1                 1    0.1071       228.22       11.082143  14.29   707   \n",
       "2                 1    0.1357       366.86       10.373491  11.63   682   \n",
       "3                 1    0.1008       162.34       11.350407   8.10   712   \n",
       "4                 1    0.1426       102.92       11.299732  14.97   667   \n",
       "...             ...       ...          ...             ...    ...   ...   \n",
       "9573              0    0.1461       344.76       12.180755  10.39   672   \n",
       "9574              0    0.1253       257.70       11.141862   0.21   722   \n",
       "9575              0    0.1071        97.81       10.596635  13.09   687   \n",
       "9576              0    0.1600       351.58       10.819778  19.18   692   \n",
       "9577              0    0.1392       853.43       11.264464  16.28   732   \n",
       "\n",
       "      days_with_cr_line  revol_bal  revol_util  inq_last_6mths  delinq_2yrs  \\\n",
       "0           5639.958333      28854        52.1               0            0   \n",
       "1           2760.000000      33623        76.7               0            0   \n",
       "2           4710.000000       3511        25.6               1            0   \n",
       "3           2699.958333      33667        73.2               1            0   \n",
       "4           4066.000000       4740        39.5               0            1   \n",
       "...                 ...        ...         ...             ...          ...   \n",
       "9573       10474.000000     215372        82.1               2            0   \n",
       "9574        4380.000000        184         1.1               5            0   \n",
       "9575        3450.041667      10036        82.9               8            0   \n",
       "9576        1800.000000          0         3.2               5            0   \n",
       "9577        4740.000000      37879        57.0               6            0   \n",
       "\n",
       "      pub_rec  not_fully_paid  purpose_all_other  purpose_credit_card  \\\n",
       "0           0               0                  0                    0   \n",
       "1           0               0                  0                    1   \n",
       "2           0               0                  0                    0   \n",
       "3           0               0                  0                    0   \n",
       "4           0               0                  0                    1   \n",
       "...       ...             ...                ...                  ...   \n",
       "9573        0               1                  1                    0   \n",
       "9574        0               1                  1                    0   \n",
       "9575        0               1                  0                    0   \n",
       "9576        0               1                  0                    0   \n",
       "9577        0               1                  0                    0   \n",
       "\n",
       "      purpose_debt_consolidation  purpose_educational  \\\n",
       "0                              1                    0   \n",
       "1                              0                    0   \n",
       "2                              1                    0   \n",
       "3                              1                    0   \n",
       "4                              0                    0   \n",
       "...                          ...                  ...   \n",
       "9573                           0                    0   \n",
       "9574                           0                    0   \n",
       "9575                           1                    0   \n",
       "9576                           0                    0   \n",
       "9577                           1                    0   \n",
       "\n",
       "      purpose_home_improvement  purpose_major_purchase  purpose_small_business  \n",
       "0                            0                       0                       0  \n",
       "1                            0                       0                       0  \n",
       "2                            0                       0                       0  \n",
       "3                            0                       0                       0  \n",
       "4                            0                       0                       0  \n",
       "...                        ...                     ...                     ...  \n",
       "9573                         0                       0                       0  \n",
       "9574                         0                       0                       0  \n",
       "9575                         0                       0                       0  \n",
       "9576                         1                       0                       0  \n",
       "9577                         0                       0                       0  \n",
       "\n",
       "[9578 rows x 20 columns]"
      ]
     },
     "execution_count": 17,
     "metadata": {},
     "output_type": "execute_result"
    }
   ],
   "source": [
    "\n",
    "df =pd.get_dummies(df,columns = [\"purpose\"])\n",
    "df"
   ]
  },
  {
   "cell_type": "code",
   "execution_count": 18,
   "id": "91759007",
   "metadata": {},
   "outputs": [
    {
     "name": "stdout",
     "output_type": "stream",
     "text": [
      "<class 'pandas.core.frame.DataFrame'>\n",
      "RangeIndex: 9578 entries, 0 to 9577\n",
      "Data columns (total 20 columns):\n",
      " #   Column                      Non-Null Count  Dtype  \n",
      "---  ------                      --------------  -----  \n",
      " 0   credit_policy               9578 non-null   int64  \n",
      " 1   int_rate                    9578 non-null   float64\n",
      " 2   installment                 9578 non-null   float64\n",
      " 3   log_annual_inc              9578 non-null   float64\n",
      " 4   dti                         9578 non-null   float64\n",
      " 5   fico                        9578 non-null   int64  \n",
      " 6   days_with_cr_line           9578 non-null   float64\n",
      " 7   revol_bal                   9578 non-null   int64  \n",
      " 8   revol_util                  9578 non-null   float64\n",
      " 9   inq_last_6mths              9578 non-null   int64  \n",
      " 10  delinq_2yrs                 9578 non-null   int64  \n",
      " 11  pub_rec                     9578 non-null   int64  \n",
      " 12  not_fully_paid              9578 non-null   int64  \n",
      " 13  purpose_all_other           9578 non-null   uint8  \n",
      " 14  purpose_credit_card         9578 non-null   uint8  \n",
      " 15  purpose_debt_consolidation  9578 non-null   uint8  \n",
      " 16  purpose_educational         9578 non-null   uint8  \n",
      " 17  purpose_home_improvement    9578 non-null   uint8  \n",
      " 18  purpose_major_purchase      9578 non-null   uint8  \n",
      " 19  purpose_small_business      9578 non-null   uint8  \n",
      "dtypes: float64(6), int64(7), uint8(7)\n",
      "memory usage: 1.0 MB\n"
     ]
    }
   ],
   "source": [
    "df.info()"
   ]
  },
  {
   "cell_type": "markdown",
   "id": "c1c2b1c9",
   "metadata": {},
   "source": [
    "### 5.Model Building"
   ]
  },
  {
   "cell_type": "code",
   "execution_count": 19,
   "id": "9c47e623",
   "metadata": {},
   "outputs": [],
   "source": [
    "x = df.drop(\"not_fully_paid\",axis=1)\n",
    "y = df[\"not_fully_paid\"]"
   ]
  },
  {
   "cell_type": "code",
   "execution_count": 20,
   "id": "f89203f8",
   "metadata": {},
   "outputs": [],
   "source": [
    "x_train,x_test,y_train,y_test = train_test_split(x,y,test_size=0.20,random_state=1,stratify=y)"
   ]
  },
  {
   "cell_type": "code",
   "execution_count": 21,
   "id": "f45dc74c",
   "metadata": {},
   "outputs": [
    {
     "data": {
      "text/plain": [
       "LogisticRegression()"
      ]
     },
     "execution_count": 21,
     "metadata": {},
     "output_type": "execute_result"
    }
   ],
   "source": [
    "logistic_model = LogisticRegression()\n",
    "logistic_model.fit(x_train,y_train)"
   ]
  },
  {
   "cell_type": "markdown",
   "id": "1655b592",
   "metadata": {},
   "source": [
    "### 6.Model Evaluation"
   ]
  },
  {
   "cell_type": "markdown",
   "id": "36983362",
   "metadata": {},
   "source": [
    "##### Testing dataset"
   ]
  },
  {
   "cell_type": "code",
   "execution_count": 27,
   "id": "41721ff0",
   "metadata": {},
   "outputs": [
    {
     "name": "stdout",
     "output_type": "stream",
     "text": [
      "Accuracy is ---> 0.8382045929018789\n",
      "Confusion matrix is --->\n",
      " [[1605    4]\n",
      " [ 306    1]]\n",
      "Classification Report is --->\n",
      "               precision    recall  f1-score   support\n",
      "\n",
      "           0       0.84      1.00      0.91      1609\n",
      "           1       0.20      0.00      0.01       307\n",
      "\n",
      "    accuracy                           0.84      1916\n",
      "   macro avg       0.52      0.50      0.46      1916\n",
      "weighted avg       0.74      0.84      0.77      1916\n",
      "\n"
     ]
    }
   ],
   "source": [
    "y_pred_test=logistic_model.predict(x_test)\n",
    "\n",
    "Accuracy=accuracy_score(y_test,y_pred_test)\n",
    "print(\"Accuracy is --->\",Accuracy)\n",
    "\n",
    "confusion_matrix=confusion_matrix(y_test,y_pred_test)\n",
    "print(\"Confusion matrix is --->\\n\",confusion_matrix)\n",
    "\n",
    "class_report=classification_report(y_test,y_pred_test)\n",
    "print(\"Classification Report is --->\\n\",class_report)"
   ]
  },
  {
   "cell_type": "markdown",
   "id": "42001a79",
   "metadata": {},
   "source": [
    "##### On Training Dataset"
   ]
  },
  {
   "cell_type": "code",
   "execution_count": 30,
   "id": "cc0b99eb",
   "metadata": {},
   "outputs": [
    {
     "name": "stdout",
     "output_type": "stream",
     "text": [
      "Accuracy is ---> 0.8402505873140172\n",
      "COnfusion matrix is --->\n",
      " [[6425   11]\n",
      " [1213   13]]\n",
      "Classification Report is --->\n",
      "               precision    recall  f1-score   support\n",
      "\n",
      "           0       0.84      1.00      0.91      6436\n",
      "           1       0.54      0.01      0.02      1226\n",
      "\n",
      "    accuracy                           0.84      7662\n",
      "   macro avg       0.69      0.50      0.47      7662\n",
      "weighted avg       0.79      0.84      0.77      7662\n",
      "\n"
     ]
    }
   ],
   "source": [
    "y_pred_train=logistic_model.predict(x_train)\n",
    "\n",
    "accuracy = accuracy_score(y_train,y_pred_train)\n",
    "print(\"Accuracy is --->\",accuracy)\n",
    "\n",
    "confusin_matrix = confusion_matrix(y_train,y_pred_train)\n",
    "print(\"COnfusion matrix is --->\\n\",confusin_matrix)\n",
    "\n",
    "class_report  = classification_report(y_train,y_pred_train)\n",
    "print(\"Classification Report is --->\\n\",class_report)\n"
   ]
  },
  {
   "cell_type": "markdown",
   "id": "b67f88e6",
   "metadata": {},
   "source": [
    "### Visualization Of Confusion Matrix"
   ]
  },
  {
   "cell_type": "code",
   "execution_count": 31,
   "id": "afcf139f",
   "metadata": {},
   "outputs": [
    {
     "data": {
      "text/plain": [
       "<sklearn.metrics._plot.confusion_matrix.ConfusionMatrixDisplay at 0x1809c858820>"
      ]
     },
     "execution_count": 31,
     "metadata": {},
     "output_type": "execute_result"
    },
    {
     "data": {
      "image/png": "[encoded data removed]",
      "text/plain": [
       "<Figure size 640x480 with 2 Axes>"
      ]
     },
     "metadata": {},
     "output_type": "display_data"
    }
   ],
   "source": [
    "#for testing data\n",
    "plot_confusion_matrix(logistic_model,x_test,y_test)\n"
   ]
  },
  {
   "cell_type": "markdown",
   "id": "b82bfc82",
   "metadata": {},
   "source": [
    "### AUC - ROC curve"
   ]
  },
  {
   "cell_type": "markdown",
   "id": "99077145",
   "metadata": {},
   "source": [
    "#### #For Training Dataset"
   ]
  },
  {
   "cell_type": "code",
   "execution_count": 32,
   "id": "255125e3",
   "metadata": {},
   "outputs": [
    {
     "data": {
      "text/plain": [
       "array([[0.760562  , 0.239438  ],\n",
       "       [0.9257121 , 0.0742879 ],\n",
       "       [0.82971992, 0.17028008],\n",
       "       ...,\n",
       "       [0.7887946 , 0.2112054 ],\n",
       "       [0.92699478, 0.07300522],\n",
       "       [0.74707252, 0.25292748]])"
      ]
     },
     "execution_count": 32,
     "metadata": {},
     "output_type": "execute_result"
    }
   ],
   "source": [
    "y_predict_probability_train = logistic_model.predict_proba(x_train)\n",
    "y_predict_probability_train"
   ]
  },
  {
   "cell_type": "code",
   "execution_count": 35,
   "id": "bc1058b1",
   "metadata": {},
   "outputs": [],
   "source": [
    "fpr,tpr,thresh = roc_curve(y_train,y_predict_probability_train[:,1])"
   ]
  },
  {
   "cell_type": "markdown",
   "id": "4d01f6d9",
   "metadata": {},
   "source": [
    "### Visualizing AUC-ROC curve"
   ]
  },
  {
   "cell_type": "code",
   "execution_count": 36,
   "id": "f503ded4",
   "metadata": {},
   "outputs": [
    {
     "data": {
      "text/plain": [
       "Text(0.5, 1.0, 'Reciever Operating Characteristics Curve')"
      ]
     },
     "execution_count": 36,
     "metadata": {},
     "output_type": "execute_result"
    },
    {
     "data": {
      "image/png": "[encoded data removed]",
      "text/plain": [
       "<Figure size 640x480 with 1 Axes>"
      ]
     },
     "metadata": {},
     "output_type": "display_data"
    }
   ],
   "source": [
    "plt.plot(fpr, tpr)\n",
    "\n",
    "plt.xlabel(\"False positive rate (FPR) -->\")\n",
    "plt.ylabel(\"True positive rate (TPR) -->\")\n",
    "plt.title(\"Reciever Operating Characteristics Curve\")"
   ]
  },
  {
   "cell_type": "code",
   "execution_count": 37,
   "id": "d5754918",
   "metadata": {},
   "outputs": [
    {
     "data": {
      "text/plain": [
       "0.6364025206906097"
      ]
     },
     "execution_count": 37,
     "metadata": {},
     "output_type": "execute_result"
    }
   ],
   "source": [
    "auc_value = auc(fpr,tpr)\n",
    "auc_value"
   ]
  },
  {
   "cell_type": "markdown",
   "id": "e75c5f1e",
   "metadata": {},
   "source": [
    "### Threshold value for testing data"
   ]
  },
  {
   "cell_type": "code",
   "execution_count": 38,
   "id": "92af4cd4",
   "metadata": {},
   "outputs": [
    {
     "data": {
      "text/html": [
       "<div>\n",
       "<style scoped>\n",
       "    .dataframe tbody tr th:only-of-type {\n",
       "        vertical-align: middle;\n",
       "    }\n",
       "\n",
       "    .dataframe tbody tr th {\n",
       "        vertical-align: top;\n",
       "    }\n",
       "\n",
       "    .dataframe thead th {\n",
       "        text-align: right;\n",
       "    }\n",
       "</style>\n",
       "<table border=\"1\" class=\"dataframe\">\n",
       "  <thead>\n",
       "    <tr style=\"text-align: right;\">\n",
       "      <th></th>\n",
       "      <th>0.0</th>\n",
       "      <th>0.1</th>\n",
       "      <th>0.2</th>\n",
       "      <th>0.3</th>\n",
       "      <th>0.4</th>\n",
       "      <th>0.5</th>\n",
       "      <th>0.6</th>\n",
       "      <th>0.7</th>\n",
       "      <th>0.8</th>\n",
       "      <th>0.9</th>\n",
       "      <th>1.0</th>\n",
       "    </tr>\n",
       "  </thead>\n",
       "  <tbody>\n",
       "    <tr>\n",
       "      <th>Accuracy</th>\n",
       "      <td>0.160230</td>\n",
       "      <td>0.282359</td>\n",
       "      <td>0.735908</td>\n",
       "      <td>0.827766</td>\n",
       "      <td>0.837161</td>\n",
       "      <td>0.838205</td>\n",
       "      <td>0.838727</td>\n",
       "      <td>0.838727</td>\n",
       "      <td>0.83977</td>\n",
       "      <td>0.83977</td>\n",
       "      <td>0.83977</td>\n",
       "    </tr>\n",
       "    <tr>\n",
       "      <th>recall</th>\n",
       "      <td>1.000000</td>\n",
       "      <td>0.944625</td>\n",
       "      <td>0.312704</td>\n",
       "      <td>0.045603</td>\n",
       "      <td>0.009772</td>\n",
       "      <td>0.003257</td>\n",
       "      <td>0.000000</td>\n",
       "      <td>0.000000</td>\n",
       "      <td>0.00000</td>\n",
       "      <td>0.00000</td>\n",
       "      <td>0.00000</td>\n",
       "    </tr>\n",
       "    <tr>\n",
       "      <th>Precision</th>\n",
       "      <td>0.160230</td>\n",
       "      <td>0.175971</td>\n",
       "      <td>0.245524</td>\n",
       "      <td>0.274510</td>\n",
       "      <td>0.272727</td>\n",
       "      <td>0.200000</td>\n",
       "      <td>0.000000</td>\n",
       "      <td>0.000000</td>\n",
       "      <td>0.00000</td>\n",
       "      <td>0.00000</td>\n",
       "      <td>0.00000</td>\n",
       "    </tr>\n",
       "    <tr>\n",
       "      <th>F1-Score</th>\n",
       "      <td>0.276203</td>\n",
       "      <td>0.296675</td>\n",
       "      <td>0.275072</td>\n",
       "      <td>0.078212</td>\n",
       "      <td>0.018868</td>\n",
       "      <td>0.006410</td>\n",
       "      <td>0.000000</td>\n",
       "      <td>0.000000</td>\n",
       "      <td>0.00000</td>\n",
       "      <td>0.00000</td>\n",
       "      <td>0.00000</td>\n",
       "    </tr>\n",
       "  </tbody>\n",
       "</table>\n",
       "</div>"
      ],
      "text/plain": [
       "                0.0       0.1       0.2       0.3       0.4       0.5  \\\n",
       "Accuracy   0.160230  0.282359  0.735908  0.827766  0.837161  0.838205   \n",
       "recall     1.000000  0.944625  0.312704  0.045603  0.009772  0.003257   \n",
       "Precision  0.160230  0.175971  0.245524  0.274510  0.272727  0.200000   \n",
       "F1-Score   0.276203  0.296675  0.275072  0.078212  0.018868  0.006410   \n",
       "\n",
       "                0.6       0.7      0.8      0.9      1.0  \n",
       "Accuracy   0.838727  0.838727  0.83977  0.83977  0.83977  \n",
       "recall     0.000000  0.000000  0.00000  0.00000  0.00000  \n",
       "Precision  0.000000  0.000000  0.00000  0.00000  0.00000  \n",
       "F1-Score   0.000000  0.000000  0.00000  0.00000  0.00000  "
      ]
     },
     "execution_count": 38,
     "metadata": {},
     "output_type": "execute_result"
    }
   ],
   "source": [
    "threshold = [0,0.1,0.2,0.3,0.4,0.5,0.6,0.7,0.8,0.9,1]\n",
    "\n",
    "df1 = pd.DataFrame()\n",
    "\n",
    "for i in  threshold:\n",
    "    preds = (logistic_model.predict_proba(x_test)[:,1] > i)\n",
    "\n",
    "    df2 = pd.DataFrame(data=[accuracy_score(y_test, preds), recall_score(y_test, preds), \n",
    "                             precision_score(y_test, preds), f1_score(y_test, preds)],\n",
    "                index=[\"Accuracy\", \"recall\", \"Precision\", \"F1-Score\"])\n",
    "    \n",
    "    df1 = pd.concat([df1,df2], axis = 1)\n",
    "    \n",
    "df1.columns = threshold\n",
    "df1"
   ]
  },
  {
   "cell_type": "markdown",
   "id": "6684fe54",
   "metadata": {},
   "source": [
    "### Threshold value for training data"
   ]
  },
  {
   "cell_type": "code",
   "execution_count": 39,
   "id": "ace2b2fc",
   "metadata": {},
   "outputs": [
    {
     "data": {
      "text/html": [
       "<div>\n",
       "<style scoped>\n",
       "    .dataframe tbody tr th:only-of-type {\n",
       "        vertical-align: middle;\n",
       "    }\n",
       "\n",
       "    .dataframe tbody tr th {\n",
       "        vertical-align: top;\n",
       "    }\n",
       "\n",
       "    .dataframe thead th {\n",
       "        text-align: right;\n",
       "    }\n",
       "</style>\n",
       "<table border=\"1\" class=\"dataframe\">\n",
       "  <thead>\n",
       "    <tr style=\"text-align: right;\">\n",
       "      <th></th>\n",
       "      <th>0.0</th>\n",
       "      <th>0.1</th>\n",
       "      <th>0.2</th>\n",
       "      <th>0.3</th>\n",
       "      <th>0.4</th>\n",
       "      <th>0.5</th>\n",
       "      <th>0.6</th>\n",
       "      <th>0.7</th>\n",
       "      <th>0.8</th>\n",
       "      <th>0.9</th>\n",
       "      <th>1.0</th>\n",
       "    </tr>\n",
       "  </thead>\n",
       "  <tbody>\n",
       "    <tr>\n",
       "      <th>Accuracy</th>\n",
       "      <td>0.160010</td>\n",
       "      <td>0.301227</td>\n",
       "      <td>0.745758</td>\n",
       "      <td>0.833203</td>\n",
       "      <td>0.838684</td>\n",
       "      <td>0.840251</td>\n",
       "      <td>0.839990</td>\n",
       "      <td>0.839729</td>\n",
       "      <td>0.839990</td>\n",
       "      <td>0.840120</td>\n",
       "      <td>0.83999</td>\n",
       "    </tr>\n",
       "    <tr>\n",
       "      <th>recall</th>\n",
       "      <td>1.000000</td>\n",
       "      <td>0.938825</td>\n",
       "      <td>0.330343</td>\n",
       "      <td>0.080750</td>\n",
       "      <td>0.022023</td>\n",
       "      <td>0.010604</td>\n",
       "      <td>0.004894</td>\n",
       "      <td>0.002447</td>\n",
       "      <td>0.001631</td>\n",
       "      <td>0.000816</td>\n",
       "      <td>0.00000</td>\n",
       "    </tr>\n",
       "    <tr>\n",
       "      <th>Precision</th>\n",
       "      <td>0.160010</td>\n",
       "      <td>0.179005</td>\n",
       "      <td>0.264360</td>\n",
       "      <td>0.396000</td>\n",
       "      <td>0.421875</td>\n",
       "      <td>0.541667</td>\n",
       "      <td>0.500000</td>\n",
       "      <td>0.375000</td>\n",
       "      <td>0.500000</td>\n",
       "      <td>1.000000</td>\n",
       "      <td>0.00000</td>\n",
       "    </tr>\n",
       "    <tr>\n",
       "      <th>F1-Score</th>\n",
       "      <td>0.275878</td>\n",
       "      <td>0.300679</td>\n",
       "      <td>0.293691</td>\n",
       "      <td>0.134146</td>\n",
       "      <td>0.041860</td>\n",
       "      <td>0.020800</td>\n",
       "      <td>0.009693</td>\n",
       "      <td>0.004862</td>\n",
       "      <td>0.003252</td>\n",
       "      <td>0.001630</td>\n",
       "      <td>0.00000</td>\n",
       "    </tr>\n",
       "  </tbody>\n",
       "</table>\n",
       "</div>"
      ],
      "text/plain": [
       "                0.0       0.1       0.2       0.3       0.4       0.5  \\\n",
       "Accuracy   0.160010  0.301227  0.745758  0.833203  0.838684  0.840251   \n",
       "recall     1.000000  0.938825  0.330343  0.080750  0.022023  0.010604   \n",
       "Precision  0.160010  0.179005  0.264360  0.396000  0.421875  0.541667   \n",
       "F1-Score   0.275878  0.300679  0.293691  0.134146  0.041860  0.020800   \n",
       "\n",
       "                0.6       0.7       0.8       0.9      1.0  \n",
       "Accuracy   0.839990  0.839729  0.839990  0.840120  0.83999  \n",
       "recall     0.004894  0.002447  0.001631  0.000816  0.00000  \n",
       "Precision  0.500000  0.375000  0.500000  1.000000  0.00000  \n",
       "F1-Score   0.009693  0.004862  0.003252  0.001630  0.00000  "
      ]
     },
     "execution_count": 39,
     "metadata": {},
     "output_type": "execute_result"
    }
   ],
   "source": [
    "threshold = [0,0.1,0.2,0.3,0.4,0.5,0.6,0.7,0.8,0.9,1]\n",
    "\n",
    "df1 = pd.DataFrame()\n",
    "\n",
    "for i in  threshold:\n",
    "    preds = (logistic_model.predict_proba(x_train)[:,1] > i)\n",
    "\n",
    "    df2 = pd.DataFrame(data=[accuracy_score(y_train, preds), recall_score(y_train, preds), \n",
    "                             precision_score(y_train, preds), f1_score(y_train, preds)],\n",
    "                index=[\"Accuracy\", \"recall\", \"Precision\", \"F1-Score\"])\n",
    "    \n",
    "    df1 = pd.concat([df1,df2], axis = 1)\n",
    "    \n",
    "df1.columns = threshold\n",
    "df1"
   ]
  },
  {
   "cell_type": "markdown",
   "id": "7133ce77",
   "metadata": {},
   "source": [
    "### Creating Pickle File"
   ]
  },
  {
   "cell_type": "code",
   "execution_count": 40,
   "id": "7cd59d95",
   "metadata": {},
   "outputs": [],
   "source": [
    "with open(\"loanmodel.pkl\",\"wb\") as p:\n",
    "    pickle.dump(logistic_model,p)"
   ]
  },
  {
   "cell_type": "markdown",
   "id": "5f7a3999",
   "metadata": {},
   "source": [
    "### Creating JSON File"
   ]
  },
  {
   "cell_type": "code",
   "execution_count": 41,
   "id": "2d3319d0",
   "metadata": {},
   "outputs": [
    {
     "data": {
      "text/plain": [
       "Index(['credit_policy', 'int_rate', 'installment', 'log_annual_inc', 'dti',\n",
       "       'fico', 'days_with_cr_line', 'revol_bal', 'revol_util',\n",
       "       'inq_last_6mths', 'delinq_2yrs', 'pub_rec', 'purpose_all_other',\n",
       "       'purpose_credit_card', 'purpose_debt_consolidation',\n",
       "       'purpose_educational', 'purpose_home_improvement',\n",
       "       'purpose_major_purchase', 'purpose_small_business'],\n",
       "      dtype='object')"
      ]
     },
     "execution_count": 41,
     "metadata": {},
     "output_type": "execute_result"
    }
   ],
   "source": [
    "columns = x.columns\n",
    "columns"
   ]
  },
  {
   "cell_type": "code",
   "execution_count": 42,
   "id": "3144e553",
   "metadata": {},
   "outputs": [
    {
     "data": {
      "text/plain": [
       "{'columns': ['credit_policy',\n",
       "  'int_rate',\n",
       "  'installment',\n",
       "  'log_annual_inc',\n",
       "  'dti',\n",
       "  'fico',\n",
       "  'days_with_cr_line',\n",
       "  'revol_bal',\n",
       "  'revol_util',\n",
       "  'inq_last_6mths',\n",
       "  'delinq_2yrs',\n",
       "  'pub_rec',\n",
       "  'purpose_all_other',\n",
       "  'purpose_credit_card',\n",
       "  'purpose_debt_consolidation',\n",
       "  'purpose_educational',\n",
       "  'purpose_home_improvement',\n",
       "  'purpose_major_purchase',\n",
       "  'purpose_small_business']}"
      ]
     },
     "execution_count": 42,
     "metadata": {},
     "output_type": "execute_result"
    }
   ],
   "source": [
    "json_data = {\"columns\":list(columns)}\n",
    "json_data"
   ]
  },
  {
   "cell_type": "code",
   "execution_count": 43,
   "id": "4271f8c4",
   "metadata": {},
   "outputs": [],
   "source": [
    "with open(\"loanjson_data.json\",\"w\") as j:\n",
    "    json.dump(json_data,j)"
   ]
  },
  {
   "cell_type": "markdown",
   "id": "f04f2ba0",
   "metadata": {},
   "source": [
    "### Single User Input Testing"
   ]
  },
  {
   "cell_type": "code",
   "execution_count": 44,
   "id": "54d7ebe4",
   "metadata": {},
   "outputs": [
    {
     "data": {
      "text/plain": [
       "credit_policy                     1.000000\n",
       "int_rate                          0.107100\n",
       "installment                     228.220000\n",
       "log_annual_inc                   11.082143\n",
       "dti                              14.290000\n",
       "fico                            707.000000\n",
       "days_with_cr_line              2760.000000\n",
       "revol_bal                     33623.000000\n",
       "revol_util                       76.700000\n",
       "inq_last_6mths                    0.000000\n",
       "delinq_2yrs                       0.000000\n",
       "pub_rec                           0.000000\n",
       "not_fully_paid                    0.000000\n",
       "purpose_all_other                 0.000000\n",
       "purpose_credit_card               1.000000\n",
       "purpose_debt_consolidation        0.000000\n",
       "purpose_educational               0.000000\n",
       "purpose_home_improvement          0.000000\n",
       "purpose_major_purchase            0.000000\n",
       "purpose_small_business            0.000000\n",
       "Name: 1, dtype: float64"
      ]
     },
     "execution_count": 44,
     "metadata": {},
     "output_type": "execute_result"
    }
   ],
   "source": [
    "df.iloc[1]"
   ]
  },
  {
   "cell_type": "code",
   "execution_count": 45,
   "id": "c55ee021",
   "metadata": {},
   "outputs": [],
   "source": [
    "credit_policy                    = 1.000000\n",
    "int_rate                         = 0.107100\n",
    "installment                      = 228.220000\n",
    "log_annual_inc                   = 1.082143\n",
    "dti                              = 14.290000\n",
    "fico                             = 707.000000\n",
    "days_with_cr_line                = 2760.000000\n",
    "revol_bal                        = 33623.000000\n",
    "revol_util                       = 76.700000\n",
    "inq_last_6mths                   = 0.000000\n",
    "delinq_2yrs                      = 0.000000\n",
    "pub_rec                          = 0.000000\n",
    "purpose_type                    = \"purpose_\" + \"credit_card\"\n",
    "purpose_index = list(json_data[\"columns\"]).index(purpose_type)"
   ]
  },
  {
   "cell_type": "code",
   "execution_count": 46,
   "id": "1af59e03",
   "metadata": {},
   "outputs": [
    {
     "data": {
      "text/plain": [
       "array([1.000000e+00, 1.071000e-01, 2.282200e+02, 1.082143e+00,\n",
       "       1.429000e+01, 7.070000e+02, 2.760000e+03, 3.362300e+04,\n",
       "       7.670000e+01, 0.000000e+00, 0.000000e+00, 0.000000e+00,\n",
       "       0.000000e+00, 1.000000e+00, 0.000000e+00, 0.000000e+00,\n",
       "       0.000000e+00, 0.000000e+00, 0.000000e+00])"
      ]
     },
     "execution_count": 46,
     "metadata": {},
     "output_type": "execute_result"
    }
   ],
   "source": [
    "test_array = np.zeros(len(json_data[\"columns\"]))\n",
    "test_array[0] = credit_policy\n",
    "test_array[1] = int_rate\n",
    "test_array[2] = installment\n",
    "test_array[3] = log_annual_inc\n",
    "test_array[4] = dti\n",
    "test_array[5] = fico\n",
    "test_array[6] = days_with_cr_line\n",
    "test_array[7] = revol_bal\n",
    "test_array[8] = revol_util\n",
    "test_array[9] = inq_last_6mths\n",
    "test_array[10] = delinq_2yrs\n",
    "test_array[11] = pub_rec\n",
    "test_array[purpose_index] = 1\n",
    "test_array"
   ]
  },
  {
   "cell_type": "code",
   "execution_count": 47,
   "id": "8ac8144e",
   "metadata": {},
   "outputs": [
    {
     "data": {
      "text/plain": [
       "(0.0, 0.0, 0.0, 13)"
      ]
     },
     "execution_count": 47,
     "metadata": {},
     "output_type": "execute_result"
    }
   ],
   "source": [
    "credit_policy,int_rate,installment,log_annual_inc,dti,fico,days_with_cr_line,revol_bal,revol_util,\n",
    "inq_last_6mths,delinq_2yrs,pub_rec,purpose_index"
   ]
  },
  {
   "cell_type": "code",
   "execution_count": 51,
   "id": "cc9af5d4",
   "metadata": {},
   "outputs": [
    {
     "name": "stdout",
     "output_type": "stream",
     "text": [
      "User Paid Complete Loan on Given Time\n"
     ]
    }
   ],
   "source": [
    "prediction = logistic_model.predict([test_array])[0]\n",
    "if prediction == 0:\n",
    "    print(\"User Paid Complete Loan on Given Time\")\n",
    "    \n",
    "else:\n",
    "    print(\"User does not Paid Complete Loan\")"
   ]
  },
  {
   "cell_type": "code",
   "execution_count": null,
   "id": "1294af0f",
   "metadata": {},
   "outputs": [],
   "source": []
  },
  {
   "cell_type": "code",
   "execution_count": null,
   "id": "8a7768b7",
   "metadata": {},
   "outputs": [],
   "source": []
  }
 ],
 "metadata": {
  "kernelspec": {
   "display_name": "Python 3 (ipykernel)",
   "language": "python",
   "name": "python3"
  },
  "language_info": {
   "codemirror_mode": {
    "name": "ipython",
    "version": 3
   },
   "file_extension": ".py",
   "mimetype": "text/x-python",
   "name": "python",
   "nbconvert_exporter": "python",
   "pygments_lexer": "ipython3",
   "version": "3.9.13"
  }
 },
 "nbformat": 4,
 "nbformat_minor": 5
}
